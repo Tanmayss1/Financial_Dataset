{
 "cells": [
  {
   "cell_type": "code",
   "execution_count": 1,
   "id": "d2a8f8f7",
   "metadata": {},
   "outputs": [],
   "source": [
    "import pandas as pd\n",
    "import numpy as np\n",
    "import seaborn as sns\n",
    "import matplotlib.pyplot as plt"
   ]
  },
  {
   "cell_type": "code",
   "execution_count": 2,
   "id": "75a3539b",
   "metadata": {},
   "outputs": [],
   "source": [
    "fd=pd.read_csv(\"C:\\\\Users\\cflun\\Desktop\\Data Analyst 2023\\Prism-Knowledgehut\\Week 9-10\\EDA\\EDA - Case study\\Financial Dataset - 1.csv\")"
   ]
  },
  {
   "cell_type": "code",
   "execution_count": 3,
   "id": "4650e6cb",
   "metadata": {
    "scrolled": true
   },
   "outputs": [
    {
     "data": {
      "text/html": [
       "<div>\n",
       "<style scoped>\n",
       "    .dataframe tbody tr th:only-of-type {\n",
       "        vertical-align: middle;\n",
       "    }\n",
       "\n",
       "    .dataframe tbody tr th {\n",
       "        vertical-align: top;\n",
       "    }\n",
       "\n",
       "    .dataframe thead th {\n",
       "        text-align: right;\n",
       "    }\n",
       "</style>\n",
       "<table border=\"1\" class=\"dataframe\">\n",
       "  <thead>\n",
       "    <tr style=\"text-align: right;\">\n",
       "      <th></th>\n",
       "      <th>country</th>\n",
       "      <th>year</th>\n",
       "      <th>uniqueid</th>\n",
       "      <th>Has a Bank account</th>\n",
       "      <th>Type of Location</th>\n",
       "      <th>Cell Phone Access</th>\n",
       "      <th>household_size</th>\n",
       "      <th>Respondent Age</th>\n",
       "      <th>gender_of_respondent</th>\n",
       "      <th>The relathip with head</th>\n",
       "      <th>marital_status</th>\n",
       "      <th>Level of Educuation</th>\n",
       "      <th>Type of Job</th>\n",
       "    </tr>\n",
       "  </thead>\n",
       "  <tbody>\n",
       "    <tr>\n",
       "      <th>0</th>\n",
       "      <td>Kenya</td>\n",
       "      <td>2018</td>\n",
       "      <td>uniqueid_1</td>\n",
       "      <td>Yes</td>\n",
       "      <td>Rural</td>\n",
       "      <td>Yes</td>\n",
       "      <td>3.0</td>\n",
       "      <td>24.0</td>\n",
       "      <td>Female</td>\n",
       "      <td>Spouse</td>\n",
       "      <td>Married/Living together</td>\n",
       "      <td>Secondary education</td>\n",
       "      <td>Self employed</td>\n",
       "    </tr>\n",
       "    <tr>\n",
       "      <th>1</th>\n",
       "      <td>Kenya</td>\n",
       "      <td>2018</td>\n",
       "      <td>uniqueid_2</td>\n",
       "      <td>No</td>\n",
       "      <td>Rural</td>\n",
       "      <td>No</td>\n",
       "      <td>5.0</td>\n",
       "      <td>70.0</td>\n",
       "      <td>Female</td>\n",
       "      <td>Head of Household</td>\n",
       "      <td>Widowed</td>\n",
       "      <td>No formal education</td>\n",
       "      <td>Government Dependent</td>\n",
       "    </tr>\n",
       "    <tr>\n",
       "      <th>2</th>\n",
       "      <td>Kenya</td>\n",
       "      <td>2018</td>\n",
       "      <td>uniqueid_3</td>\n",
       "      <td>Yes</td>\n",
       "      <td>Urban</td>\n",
       "      <td>Yes</td>\n",
       "      <td>5.0</td>\n",
       "      <td>26.0</td>\n",
       "      <td>Male</td>\n",
       "      <td>Other relative</td>\n",
       "      <td>Single/Never Married</td>\n",
       "      <td>Vocational/Specialised training</td>\n",
       "      <td>Self employed</td>\n",
       "    </tr>\n",
       "    <tr>\n",
       "      <th>3</th>\n",
       "      <td>Kenya</td>\n",
       "      <td>2018</td>\n",
       "      <td>uniqueid_4</td>\n",
       "      <td>No</td>\n",
       "      <td>Rural</td>\n",
       "      <td>Yes</td>\n",
       "      <td>5.0</td>\n",
       "      <td>34.0</td>\n",
       "      <td>Female</td>\n",
       "      <td>Head of Household</td>\n",
       "      <td>Married/Living together</td>\n",
       "      <td>Primary education</td>\n",
       "      <td>Formally employed Private</td>\n",
       "    </tr>\n",
       "    <tr>\n",
       "      <th>4</th>\n",
       "      <td>Kenya</td>\n",
       "      <td>2018</td>\n",
       "      <td>uniqueid_5</td>\n",
       "      <td>No</td>\n",
       "      <td>Urban</td>\n",
       "      <td>No</td>\n",
       "      <td>8.0</td>\n",
       "      <td>26.0</td>\n",
       "      <td>Male</td>\n",
       "      <td>Child</td>\n",
       "      <td>Single/Never Married</td>\n",
       "      <td>Primary education</td>\n",
       "      <td>Informally employed</td>\n",
       "    </tr>\n",
       "  </tbody>\n",
       "</table>\n",
       "</div>"
      ],
      "text/plain": [
       "  country  year    uniqueid Has a Bank account Type of Location  \\\n",
       "0   Kenya  2018  uniqueid_1                Yes            Rural   \n",
       "1   Kenya  2018  uniqueid_2                 No            Rural   \n",
       "2   Kenya  2018  uniqueid_3                Yes            Urban   \n",
       "3   Kenya  2018  uniqueid_4                 No            Rural   \n",
       "4   Kenya  2018  uniqueid_5                 No            Urban   \n",
       "\n",
       "  Cell Phone Access  household_size  Respondent Age gender_of_respondent  \\\n",
       "0               Yes             3.0            24.0               Female   \n",
       "1                No             5.0            70.0               Female   \n",
       "2               Yes             5.0            26.0                 Male   \n",
       "3               Yes             5.0            34.0               Female   \n",
       "4                No             8.0            26.0                 Male   \n",
       "\n",
       "  The relathip with head           marital_status  \\\n",
       "0                 Spouse  Married/Living together   \n",
       "1      Head of Household                  Widowed   \n",
       "2         Other relative     Single/Never Married   \n",
       "3      Head of Household  Married/Living together   \n",
       "4                  Child     Single/Never Married   \n",
       "\n",
       "               Level of Educuation                Type of Job  \n",
       "0              Secondary education              Self employed  \n",
       "1              No formal education       Government Dependent  \n",
       "2  Vocational/Specialised training              Self employed  \n",
       "3                Primary education  Formally employed Private  \n",
       "4                Primary education        Informally employed  "
      ]
     },
     "execution_count": 3,
     "metadata": {},
     "output_type": "execute_result"
    }
   ],
   "source": [
    "fd.head()"
   ]
  },
  {
   "cell_type": "code",
   "execution_count": 4,
   "id": "c86bec61",
   "metadata": {
    "scrolled": false
   },
   "outputs": [
    {
     "data": {
      "text/plain": [
       "<bound method DataFrame.info of       country  year       uniqueid Has a Bank account Type of Location  \\\n",
       "0       Kenya  2018     uniqueid_1                Yes            Rural   \n",
       "1       Kenya  2018     uniqueid_2                 No            Rural   \n",
       "2       Kenya  2018     uniqueid_3                Yes            Urban   \n",
       "3       Kenya  2018     uniqueid_4                 No            Rural   \n",
       "4       Kenya  2018     uniqueid_5                 No            Urban   \n",
       "...       ...   ...            ...                ...              ...   \n",
       "23519  Uganda  2018  uniqueid_2113                 No            Rural   \n",
       "23520  Uganda  2018  uniqueid_2114                 No            Rural   \n",
       "23521  Uganda  2018  uniqueid_2115                 No            Rural   \n",
       "23522  Uganda  2018  uniqueid_2116                 No            Urban   \n",
       "23523  Uganda  2018  uniqueid_2117                 No            Rural   \n",
       "\n",
       "      Cell Phone Access  household_size  Respondent Age gender_of_respondent  \\\n",
       "0                   Yes             3.0            24.0               Female   \n",
       "1                    No             5.0            70.0               Female   \n",
       "2                   Yes             5.0            26.0                 Male   \n",
       "3                   Yes             5.0            34.0               Female   \n",
       "4                    No             8.0            26.0                 Male   \n",
       "...                 ...             ...             ...                  ...   \n",
       "23519               Yes             4.0            48.0               Female   \n",
       "23520               Yes             2.0            27.0               Female   \n",
       "23521               Yes             5.0            27.0               Female   \n",
       "23522               Yes             7.0            30.0               Female   \n",
       "23523               Yes            10.0            20.0                 Male   \n",
       "\n",
       "      The relathip with head           marital_status  \\\n",
       "0                     Spouse  Married/Living together   \n",
       "1          Head of Household                  Widowed   \n",
       "2             Other relative     Single/Never Married   \n",
       "3          Head of Household  Married/Living together   \n",
       "4                      Child     Single/Never Married   \n",
       "...                      ...                      ...   \n",
       "23519      Head of Household       Divorced/Seperated   \n",
       "23520      Head of Household     Single/Never Married   \n",
       "23521                 Parent                  Widowed   \n",
       "23522                 Parent       Divorced/Seperated   \n",
       "23523                  Child     Single/Never Married   \n",
       "\n",
       "                   Level of Educuation                Type of Job  \n",
       "0                  Secondary education              Self employed  \n",
       "1                  No formal education       Government Dependent  \n",
       "2      Vocational/Specialised training              Self employed  \n",
       "3                    Primary education  Formally employed Private  \n",
       "4                    Primary education        Informally employed  \n",
       "...                                ...                        ...  \n",
       "23519              No formal education               Other Income  \n",
       "23520              Secondary education               Other Income  \n",
       "23521                Primary education               Other Income  \n",
       "23522              Secondary education              Self employed  \n",
       "23523              Secondary education                  No Income  \n",
       "\n",
       "[23524 rows x 13 columns]>"
      ]
     },
     "execution_count": 4,
     "metadata": {},
     "output_type": "execute_result"
    }
   ],
   "source": [
    "fd.info"
   ]
  },
  {
   "cell_type": "code",
   "execution_count": 5,
   "id": "6e37063e",
   "metadata": {},
   "outputs": [
    {
     "data": {
      "text/plain": [
       "<bound method NDFrame.describe of       country  year       uniqueid Has a Bank account Type of Location  \\\n",
       "0       Kenya  2018     uniqueid_1                Yes            Rural   \n",
       "1       Kenya  2018     uniqueid_2                 No            Rural   \n",
       "2       Kenya  2018     uniqueid_3                Yes            Urban   \n",
       "3       Kenya  2018     uniqueid_4                 No            Rural   \n",
       "4       Kenya  2018     uniqueid_5                 No            Urban   \n",
       "...       ...   ...            ...                ...              ...   \n",
       "23519  Uganda  2018  uniqueid_2113                 No            Rural   \n",
       "23520  Uganda  2018  uniqueid_2114                 No            Rural   \n",
       "23521  Uganda  2018  uniqueid_2115                 No            Rural   \n",
       "23522  Uganda  2018  uniqueid_2116                 No            Urban   \n",
       "23523  Uganda  2018  uniqueid_2117                 No            Rural   \n",
       "\n",
       "      Cell Phone Access  household_size  Respondent Age gender_of_respondent  \\\n",
       "0                   Yes             3.0            24.0               Female   \n",
       "1                    No             5.0            70.0               Female   \n",
       "2                   Yes             5.0            26.0                 Male   \n",
       "3                   Yes             5.0            34.0               Female   \n",
       "4                    No             8.0            26.0                 Male   \n",
       "...                 ...             ...             ...                  ...   \n",
       "23519               Yes             4.0            48.0               Female   \n",
       "23520               Yes             2.0            27.0               Female   \n",
       "23521               Yes             5.0            27.0               Female   \n",
       "23522               Yes             7.0            30.0               Female   \n",
       "23523               Yes            10.0            20.0                 Male   \n",
       "\n",
       "      The relathip with head           marital_status  \\\n",
       "0                     Spouse  Married/Living together   \n",
       "1          Head of Household                  Widowed   \n",
       "2             Other relative     Single/Never Married   \n",
       "3          Head of Household  Married/Living together   \n",
       "4                      Child     Single/Never Married   \n",
       "...                      ...                      ...   \n",
       "23519      Head of Household       Divorced/Seperated   \n",
       "23520      Head of Household     Single/Never Married   \n",
       "23521                 Parent                  Widowed   \n",
       "23522                 Parent       Divorced/Seperated   \n",
       "23523                  Child     Single/Never Married   \n",
       "\n",
       "                   Level of Educuation                Type of Job  \n",
       "0                  Secondary education              Self employed  \n",
       "1                  No formal education       Government Dependent  \n",
       "2      Vocational/Specialised training              Self employed  \n",
       "3                    Primary education  Formally employed Private  \n",
       "4                    Primary education        Informally employed  \n",
       "...                                ...                        ...  \n",
       "23519              No formal education               Other Income  \n",
       "23520              Secondary education               Other Income  \n",
       "23521                Primary education               Other Income  \n",
       "23522              Secondary education              Self employed  \n",
       "23523              Secondary education                  No Income  \n",
       "\n",
       "[23524 rows x 13 columns]>"
      ]
     },
     "execution_count": 5,
     "metadata": {},
     "output_type": "execute_result"
    }
   ],
   "source": [
    "fd.describe"
   ]
  },
  {
   "attachments": {},
   "cell_type": "markdown",
   "id": "2e904bf9",
   "metadata": {},
   "source": [
    "# Find and handle the null values which are present in the dataset."
   ]
  },
  {
   "cell_type": "code",
   "execution_count": 6,
   "id": "3083b973",
   "metadata": {},
   "outputs": [
    {
     "data": {
      "text/plain": [
       "country                   14\n",
       "year                       0\n",
       "uniqueid                   0\n",
       "Has a Bank account        36\n",
       "Type of Location          15\n",
       "Cell Phone Access         11\n",
       "household_size            28\n",
       "Respondent Age            34\n",
       "gender_of_respondent      34\n",
       "The relathip with head     4\n",
       "marital_status            32\n",
       "Level of Educuation       29\n",
       "Type of Job               30\n",
       "dtype: int64"
      ]
     },
     "execution_count": 6,
     "metadata": {},
     "output_type": "execute_result"
    }
   ],
   "source": [
    "fd.isnull().sum()"
   ]
  },
  {
   "cell_type": "code",
   "execution_count": 7,
   "id": "5c87d41b",
   "metadata": {},
   "outputs": [
    {
     "data": {
      "text/plain": [
       "True"
      ]
     },
     "execution_count": 7,
     "metadata": {},
     "output_type": "execute_result"
    }
   ],
   "source": [
    "fd.isnull().values.any()"
   ]
  },
  {
   "cell_type": "code",
   "execution_count": 8,
   "id": "9ac623c4",
   "metadata": {},
   "outputs": [
    {
     "data": {
      "text/plain": [
       "267"
      ]
     },
     "execution_count": 8,
     "metadata": {},
     "output_type": "execute_result"
    }
   ],
   "source": [
    "fd.isnull().sum().sum()"
   ]
  },
  {
   "attachments": {},
   "cell_type": "markdown",
   "id": "35cbbdf7",
   "metadata": {},
   "source": [
    "# Find the duplicate values from the dataset and handle them if any are present."
   ]
  },
  {
   "cell_type": "code",
   "execution_count": 9,
   "id": "eeb8ff3a",
   "metadata": {},
   "outputs": [
    {
     "data": {
      "text/plain": [
       "country                   0\n",
       "year                      0\n",
       "uniqueid                  0\n",
       "Has a Bank account        0\n",
       "Type of Location          0\n",
       "Cell Phone Access         0\n",
       "household_size            0\n",
       "Respondent Age            0\n",
       "gender_of_respondent      0\n",
       "The relathip with head    0\n",
       "marital_status            0\n",
       "Level of Educuation       0\n",
       "Type of Job               0\n",
       "dtype: int64"
      ]
     },
     "execution_count": 9,
     "metadata": {},
     "output_type": "execute_result"
    }
   ],
   "source": [
    "fd.dropna(axis=0,inplace=True)\n",
    "fd.isnull().sum()"
   ]
  },
  {
   "cell_type": "code",
   "execution_count": 10,
   "id": "e797a214",
   "metadata": {},
   "outputs": [
    {
     "data": {
      "text/plain": [
       "0"
      ]
     },
     "execution_count": 10,
     "metadata": {},
     "output_type": "execute_result"
    }
   ],
   "source": [
    "fd.duplicated().sum()"
   ]
  },
  {
   "attachments": {},
   "cell_type": "markdown",
   "id": "3d10f6f4",
   "metadata": {},
   "source": [
    "# Count the number of  Unique values in each column in a given dataset."
   ]
  },
  {
   "cell_type": "code",
   "execution_count": 11,
   "id": "e29c2e6e",
   "metadata": {},
   "outputs": [
    {
     "data": {
      "text/plain": [
       "country                      4\n",
       "year                         6\n",
       "uniqueid                  8687\n",
       "Has a Bank account           2\n",
       "Type of Location             2\n",
       "Cell Phone Access            2\n",
       "household_size              21\n",
       "Respondent Age              85\n",
       "gender_of_respondent         2\n",
       "The relathip with head       6\n",
       "marital_status               5\n",
       "Level of Educuation          7\n",
       "Type of Job                 10\n",
       "dtype: int64"
      ]
     },
     "execution_count": 11,
     "metadata": {},
     "output_type": "execute_result"
    }
   ],
   "source": [
    "fd.nunique()"
   ]
  },
  {
   "cell_type": "code",
   "execution_count": 12,
   "id": "cbd83ac3",
   "metadata": {},
   "outputs": [
    {
     "data": {
      "text/plain": [
       "8839"
      ]
     },
     "execution_count": 12,
     "metadata": {},
     "output_type": "execute_result"
    }
   ],
   "source": [
    "fd.nunique().sum()"
   ]
  },
  {
   "attachments": {},
   "cell_type": "markdown",
   "id": "385328c0",
   "metadata": {},
   "source": [
    "# Perform Gender wise customer distribution using the count plot."
   ]
  },
  {
   "cell_type": "code",
   "execution_count": 13,
   "id": "a6e5c59f",
   "metadata": {
    "scrolled": true
   },
   "outputs": [
    {
     "data": {
      "text/plain": [
       "Female    13767\n",
       "Male       9576\n",
       "Name: gender_of_respondent, dtype: int64"
      ]
     },
     "execution_count": 13,
     "metadata": {},
     "output_type": "execute_result"
    }
   ],
   "source": [
    "fd['gender_of_respondent'].value_counts()"
   ]
  },
  {
   "cell_type": "code",
   "execution_count": 14,
   "id": "46640d24",
   "metadata": {},
   "outputs": [
    {
     "data": {
      "text/plain": [
       "<AxesSubplot:xlabel='gender_of_respondent', ylabel='count'>"
      ]
     },
     "execution_count": 14,
     "metadata": {},
     "output_type": "execute_result"
    },
    {
     "data": {
      "image/png": "[encoded data removed]",
      "text/plain": [
       "<Figure size 432x288 with 1 Axes>"
      ]
     },
     "metadata": {
      "needs_background": "light"
     },
     "output_type": "display_data"
    }
   ],
   "source": [
    "plt.hist(fd['gender_of_respondent'].value_counts())\n",
    "sns.countplot(x=fd[\"gender_of_respondent\"],palette='Paired')"
   ]
  },
  {
   "attachments": {},
   "cell_type": "markdown",
   "id": "ac558f80",
   "metadata": {},
   "source": [
    "# Perform Country wise distribution using the count plot. "
   ]
  },
  {
   "cell_type": "code",
   "execution_count": 15,
   "id": "3785a3c2",
   "metadata": {},
   "outputs": [
    {
     "data": {
      "text/plain": [
       "Rwanda      8684\n",
       "Tanzania    6500\n",
       "Kenya       6064\n",
       "Uganda      2095\n",
       "Name: country, dtype: int64"
      ]
     },
     "execution_count": 15,
     "metadata": {},
     "output_type": "execute_result"
    }
   ],
   "source": [
    "fd['country'].value_counts()"
   ]
  },
  {
   "cell_type": "code",
   "execution_count": 16,
   "id": "92ac77cf",
   "metadata": {},
   "outputs": [
    {
     "data": {
      "text/plain": [
       "<AxesSubplot:xlabel='country', ylabel='count'>"
      ]
     },
     "execution_count": 16,
     "metadata": {},
     "output_type": "execute_result"
    },
    {
     "data": {
      "image/png": "[encoded data removed]",
      "text/plain": [
       "<Figure size 432x288 with 1 Axes>"
      ]
     },
     "metadata": {
      "needs_background": "light"
     },
     "output_type": "display_data"
    }
   ],
   "source": [
    "plt.hist(fd['country'].value_counts())\n",
    "sns.countplot(x=fd[\"country\"],palette='Paired')"
   ]
  },
  {
   "attachments": {},
   "cell_type": "markdown",
   "id": "dda9438f",
   "metadata": {},
   "source": [
    "# Performed analysis as per their marital status."
   ]
  },
  {
   "cell_type": "code",
   "execution_count": 17,
   "id": "2e2a32ce",
   "metadata": {},
   "outputs": [
    {
     "data": {
      "text/plain": [
       "Married/Living together    10700\n",
       "Single/Never Married        7903\n",
       "Widowed                     2683\n",
       "Divorced/Seperated          2049\n",
       "Dont know                      8\n",
       "Name: marital_status, dtype: int64"
      ]
     },
     "execution_count": 17,
     "metadata": {},
     "output_type": "execute_result"
    }
   ],
   "source": [
    "fd['marital_status'].value_counts()"
   ]
  },
  {
   "cell_type": "code",
   "execution_count": 18,
   "id": "3fdda939",
   "metadata": {},
   "outputs": [
    {
     "data": {
      "text/plain": [
       "<AxesSubplot:xlabel='marital_status', ylabel='count'>"
      ]
     },
     "execution_count": 18,
     "metadata": {},
     "output_type": "execute_result"
    },
    {
     "data": {
      "image/png": "[encoded data removed]",
      "text/plain": [
       "<Figure size 720x288 with 1 Axes>"
      ]
     },
     "metadata": {
      "needs_background": "light"
     },
     "output_type": "display_data"
    }
   ],
   "source": [
    "plt.figure(figsize=(10,4))\n",
    "sns.countplot(x=fd['marital_status'],palette='YlOrBr')"
   ]
  },
  {
   "attachments": {},
   "cell_type": "markdown",
   "id": "c47106b2",
   "metadata": {},
   "source": [
    "# Analyze the Customer’s  Education."
   ]
  },
  {
   "cell_type": "code",
   "execution_count": 19,
   "id": "3abb0dd2",
   "metadata": {},
   "outputs": [
    {
     "data": {
      "text/plain": [
       "Primary education                  12689\n",
       "No formal education                 4467\n",
       "Secondary education                 4207\n",
       "Tertiary education                  1144\n",
       "Vocational/Specialised training      801\n",
       "6                                     27\n",
       "Other/Dont know/RTA                    8\n",
       "Name: Level of Educuation, dtype: int64"
      ]
     },
     "execution_count": 19,
     "metadata": {},
     "output_type": "execute_result"
    }
   ],
   "source": [
    "fd['Level of Educuation'].value_counts()"
   ]
  },
  {
   "cell_type": "code",
   "execution_count": 20,
   "id": "29c16626",
   "metadata": {},
   "outputs": [
    {
     "data": {
      "text/plain": [
       "<AxesSubplot:xlabel='Level of Educuation', ylabel='count'>"
      ]
     },
     "execution_count": 20,
     "metadata": {},
     "output_type": "execute_result"
    },
    {
     "data": {
      "image/png": "[encoded data removed]",
      "text/plain": [
       "<Figure size 1008x576 with 1 Axes>"
      ]
     },
     "metadata": {
      "needs_background": "light"
     },
     "output_type": "display_data"
    }
   ],
   "source": [
    "plt.figure(figsize=(14,8))\n",
    "plt.ylim(7,16000)\n",
    "plt.xticks()\n",
    "plt.tight_layout()\n",
    "sns.countplot(x=fd[\"Level of Educuation\"])"
   ]
  },
  {
   "cell_type": "code",
   "execution_count": 21,
   "id": "119629b1",
   "metadata": {},
   "outputs": [
    {
     "data": {
      "image/png": "[encoded data removed]",
      "text/plain": [
       "<Figure size 432x288 with 1 Axes>"
      ]
     },
     "metadata": {
      "needs_background": "light"
     },
     "output_type": "display_data"
    }
   ],
   "source": [
    "import matplotlib.pyplot as plt\n",
    "import numpy as np\n",
    "xpoints = np.array([1, 8])\n",
    "ypoints = np.array([3, 10])\n",
    "plt.plot(xpoints, ypoints)\n",
    "plt.show()"
   ]
  },
  {
   "cell_type": "code",
   "execution_count": null,
   "id": "0988c827",
   "metadata": {},
   "outputs": [],
   "source": []
  }
 ],
 "metadata": {
  "kernelspec": {
   "display_name": "Python 3 (ipykernel)",
   "language": "python",
   "name": "python3"
  },
  "language_info": {
   "codemirror_mode": {
    "name": "ipython",
    "version": 3
   },
   "file_extension": ".py",
   "mimetype": "text/x-python",
   "name": "python",
   "nbconvert_exporter": "python",
   "pygments_lexer": "ipython3",
   "version": "3.9.12"
  }
 },
 "nbformat": 4,
 "nbformat_minor": 5
}
